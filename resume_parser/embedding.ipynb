{
 "cells": [
  {
   "cell_type": "code",
   "execution_count": 1,
   "id": "09871709",
   "metadata": {},
   "outputs": [
    {
     "name": "stderr",
     "output_type": "stream",
     "text": [
      "c:\\Users\\Administrator\\.conda\\envs\\cv_parser\\lib\\site-packages\\tqdm\\auto.py:21: TqdmWarning: IProgress not found. Please update jupyter and ipywidgets. See https://ipywidgets.readthedocs.io/en/stable/user_install.html\n",
      "  from .autonotebook import tqdm as notebook_tqdm\n"
     ]
    }
   ],
   "source": [
    "import pandas as pd\n",
    "from sentence_transformers import SentenceTransformer\n",
    "import chromadb\n",
    "from chromadb.config import Settings\n",
    "\n"
   ]
  },
  {
   "cell_type": "code",
   "execution_count": 2,
   "id": "f8d186e4",
   "metadata": {},
   "outputs": [
    {
     "data": {
      "text/html": [
       "<div>\n",
       "<style scoped>\n",
       "    .dataframe tbody tr th:only-of-type {\n",
       "        vertical-align: middle;\n",
       "    }\n",
       "\n",
       "    .dataframe tbody tr th {\n",
       "        vertical-align: top;\n",
       "    }\n",
       "\n",
       "    .dataframe thead th {\n",
       "        text-align: right;\n",
       "    }\n",
       "</style>\n",
       "<table border=\"1\" class=\"dataframe\">\n",
       "  <thead>\n",
       "    <tr style=\"text-align: right;\">\n",
       "      <th></th>\n",
       "      <th>S.No.</th>\n",
       "      <th>S.No..1</th>\n",
       "      <th>Name</th>\n",
       "      <th>Assessment</th>\n",
       "      <th>AI</th>\n",
       "      <th>Mock</th>\n",
       "      <th>Description</th>\n",
       "      <th>Categories</th>\n",
       "      <th>Skills/Technologies</th>\n",
       "      <th>type</th>\n",
       "      <th>stype</th>\n",
       "      <th>301</th>\n",
       "    </tr>\n",
       "  </thead>\n",
       "  <tbody>\n",
       "    <tr>\n",
       "      <th>0</th>\n",
       "      <td>1.0</td>\n",
       "      <td>1.0</td>\n",
       "      <td>Java</td>\n",
       "      <td>True</td>\n",
       "      <td>True</td>\n",
       "      <td>True</td>\n",
       "      <td>Mock interview designed to assess your Java pr...</td>\n",
       "      <td>Basic Syntax and Language Fundamentals, Object...</td>\n",
       "      <td>1, 42, 53, 113, 118, 160</td>\n",
       "      <td>1.0</td>\n",
       "      <td>1.0</td>\n",
       "      <td>NaN</td>\n",
       "    </tr>\n",
       "    <tr>\n",
       "      <th>1</th>\n",
       "      <td>2.0</td>\n",
       "      <td>2.0</td>\n",
       "      <td>MySQL</td>\n",
       "      <td>True</td>\n",
       "      <td>True</td>\n",
       "      <td>True</td>\n",
       "      <td>Mock interview tailored to evaluate your MySQL...</td>\n",
       "      <td>Data Definition Language, Data Manipulation La...</td>\n",
       "      <td>NaN</td>\n",
       "      <td>1.0</td>\n",
       "      <td>1.0</td>\n",
       "      <td>NaN</td>\n",
       "    </tr>\n",
       "    <tr>\n",
       "      <th>2</th>\n",
       "      <td>3.0</td>\n",
       "      <td>3.0</td>\n",
       "      <td>MongoDB</td>\n",
       "      <td>True</td>\n",
       "      <td>True</td>\n",
       "      <td>True</td>\n",
       "      <td>Mock interview designed to assess your MongoDB...</td>\n",
       "      <td>Introduction to NoSQL, MongoDB Basics, CRUD Op...</td>\n",
       "      <td>NaN</td>\n",
       "      <td>1.0</td>\n",
       "      <td>1.0</td>\n",
       "      <td>NaN</td>\n",
       "    </tr>\n",
       "    <tr>\n",
       "      <th>3</th>\n",
       "      <td>4.0</td>\n",
       "      <td>4.0</td>\n",
       "      <td>NodeJS</td>\n",
       "      <td>True</td>\n",
       "      <td>True</td>\n",
       "      <td>True</td>\n",
       "      <td>Mock interview tailored to evaluate your Node....</td>\n",
       "      <td>JavaScript Fundamentals, Object-Oriented JavaS...</td>\n",
       "      <td>NaN</td>\n",
       "      <td>1.0</td>\n",
       "      <td>1.0</td>\n",
       "      <td>NaN</td>\n",
       "    </tr>\n",
       "    <tr>\n",
       "      <th>4</th>\n",
       "      <td>5.0</td>\n",
       "      <td>5.0</td>\n",
       "      <td>Python</td>\n",
       "      <td>True</td>\n",
       "      <td>True</td>\n",
       "      <td>True</td>\n",
       "      <td>Mock interview designed to assess your Python ...</td>\n",
       "      <td>Basics, Control Structures, Functions, Data St...</td>\n",
       "      <td>NaN</td>\n",
       "      <td>1.0</td>\n",
       "      <td>1.0</td>\n",
       "      <td>NaN</td>\n",
       "    </tr>\n",
       "  </tbody>\n",
       "</table>\n",
       "</div>"
      ],
      "text/plain": [
       "   S.No.  S.No..1     Name Assessment    AI  Mock   \n",
       "0    1.0      1.0     Java       True  True  True  \\\n",
       "1    2.0      2.0    MySQL       True  True  True   \n",
       "2    3.0      3.0  MongoDB       True  True  True   \n",
       "3    4.0      4.0   NodeJS       True  True  True   \n",
       "4    5.0      5.0   Python       True  True  True   \n",
       "\n",
       "                                         Description   \n",
       "0  Mock interview designed to assess your Java pr...  \\\n",
       "1  Mock interview tailored to evaluate your MySQL...   \n",
       "2  Mock interview designed to assess your MongoDB...   \n",
       "3  Mock interview tailored to evaluate your Node....   \n",
       "4  Mock interview designed to assess your Python ...   \n",
       "\n",
       "                                          Categories   \n",
       "0  Basic Syntax and Language Fundamentals, Object...  \\\n",
       "1  Data Definition Language, Data Manipulation La...   \n",
       "2  Introduction to NoSQL, MongoDB Basics, CRUD Op...   \n",
       "3  JavaScript Fundamentals, Object-Oriented JavaS...   \n",
       "4  Basics, Control Structures, Functions, Data St...   \n",
       "\n",
       "        Skills/Technologies  type  stype  301  \n",
       "0  1, 42, 53, 113, 118, 160   1.0    1.0  NaN  \n",
       "1                       NaN   1.0    1.0  NaN  \n",
       "2                       NaN   1.0    1.0  NaN  \n",
       "3                       NaN   1.0    1.0  NaN  \n",
       "4                       NaN   1.0    1.0  NaN  "
      ]
     },
     "execution_count": 2,
     "metadata": {},
     "output_type": "execute_result"
    }
   ],
   "source": [
    "df = pd.read_csv('skills.csv')\n",
    "df.head()"
   ]
  },
  {
   "cell_type": "code",
   "execution_count": 3,
   "id": "94bef909",
   "metadata": {},
   "outputs": [
    {
     "data": {
      "text/html": [
       "<div>\n",
       "<style scoped>\n",
       "    .dataframe tbody tr th:only-of-type {\n",
       "        vertical-align: middle;\n",
       "    }\n",
       "\n",
       "    .dataframe tbody tr th {\n",
       "        vertical-align: top;\n",
       "    }\n",
       "\n",
       "    .dataframe thead th {\n",
       "        text-align: right;\n",
       "    }\n",
       "</style>\n",
       "<table border=\"1\" class=\"dataframe\">\n",
       "  <thead>\n",
       "    <tr style=\"text-align: right;\">\n",
       "      <th></th>\n",
       "      <th>s_no</th>\n",
       "      <th>name</th>\n",
       "    </tr>\n",
       "  </thead>\n",
       "  <tbody>\n",
       "    <tr>\n",
       "      <th>0</th>\n",
       "      <td>1</td>\n",
       "      <td>Java</td>\n",
       "    </tr>\n",
       "    <tr>\n",
       "      <th>1</th>\n",
       "      <td>2</td>\n",
       "      <td>MySQL</td>\n",
       "    </tr>\n",
       "    <tr>\n",
       "      <th>2</th>\n",
       "      <td>3</td>\n",
       "      <td>MongoDB</td>\n",
       "    </tr>\n",
       "    <tr>\n",
       "      <th>3</th>\n",
       "      <td>4</td>\n",
       "      <td>NodeJS</td>\n",
       "    </tr>\n",
       "    <tr>\n",
       "      <th>4</th>\n",
       "      <td>5</td>\n",
       "      <td>Python</td>\n",
       "    </tr>\n",
       "  </tbody>\n",
       "</table>\n",
       "</div>"
      ],
      "text/plain": [
       "   s_no     name\n",
       "0     1     Java\n",
       "1     2    MySQL\n",
       "2     3  MongoDB\n",
       "3     4   NodeJS\n",
       "4     5   Python"
      ]
     },
     "execution_count": 3,
     "metadata": {},
     "output_type": "execute_result"
    }
   ],
   "source": [
    "df_cleaned = pd.read_csv('csv_db.csv')\n",
    "\n",
    "df_cleaned['s_no'] = df_cleaned['s_no'].astype(int)\n",
    "\n",
    "df_cleaned.head()"
   ]
  },
  {
   "cell_type": "code",
   "execution_count": 4,
   "id": "1205ddbc",
   "metadata": {},
   "outputs": [],
   "source": [
    "def normalize_skill(skill: str) -> str:\n",
    "    return (\n",
    "        skill.strip()\n",
    "         .lower()\n",
    "         .replace(\" \", \"\")\n",
    "    )\n"
   ]
  },
  {
   "cell_type": "code",
   "execution_count": 4,
   "id": "a8d9ca42",
   "metadata": {},
   "outputs": [],
   "source": [
    "def normalize(cllgge: str) -> str:\n",
    "    return (\n",
    "    cllgge.strip()\n",
    "        .lower()\n",
    "        .replace(\"-\", \" \")\n",
    "        .replace(\".\", \"\")\n",
    "        .replace(\",\", \"\")\n",
    "        .replace(\"/\", \" \")\n",
    "        .replace(\"  \", \" \")\n",
    ")\n"
   ]
  },
  {
   "cell_type": "code",
   "execution_count": 6,
   "id": "59f73105",
   "metadata": {},
   "outputs": [],
   "source": [
    "model = SentenceTransformer('all-mpnet-base-v2')\n",
    "df_cleaned['name'] = df_cleaned['name'].astype(str).apply(normalize_skill)\n",
    "skill_texts = df_cleaned['name'].tolist()\n",
    "skill_embeddings = model.encode(skill_texts, normalize_embeddings=True)\n"
   ]
  },
  {
   "cell_type": "code",
   "execution_count": 6,
   "id": "b1400cda",
   "metadata": {},
   "outputs": [],
   "source": [
    "model = SentenceTransformer('all-mpnet-base-v2')"
   ]
  },
  {
   "cell_type": "code",
   "execution_count": 15,
   "id": "2882e070",
   "metadata": {},
   "outputs": [
    {
     "data": {
      "text/plain": [
       "'collection.add(\\n    ids=[str(i) for i in df_cleaned[\\'s_no\\']], \\n    embeddings=skill_embeddings.tolist(),\\n    metadatas=[{\"skill\": s} for s in skill_texts],\\n    documents=skill_texts                 \\n)'"
      ]
     },
     "execution_count": 15,
     "metadata": {},
     "output_type": "execute_result"
    }
   ],
   "source": [
    "\n",
    "chroma_client = chromadb.PersistentClient(path=\"chroma_db_api\")\n",
    "collection = chroma_client.get_or_create_collection(\n",
    "    name=\"skills\",\n",
    "    metadata={\"hnsw:space\": \"cosine\"}       \n",
    ")\n",
    "\n",
    "'''collection.add(\n",
    "    ids=[str(i) for i in df_cleaned['s_no']], \n",
    "    embeddings=skill_embeddings.tolist(),\n",
    "    metadatas=[{\"skill\": s} for s in skill_texts],\n",
    "    documents=skill_texts                 \n",
    ")'''"
   ]
  },
  {
   "cell_type": "code",
   "execution_count": 16,
   "id": "de921d15",
   "metadata": {},
   "outputs": [
    {
     "name": "stdout",
     "output_type": "stream",
     "text": [
      "[{'skill_id': '10000', 'skill': 'spraycontrol', 'score': 0.3199576735496521}]\n",
      "[{'skill_id': '9999', 'skill': 'counterstrafing', 'score': 0.38906341791152954}, {'skill_id': '90', 'skill': 'dart', 'score': 0.6202440857887268}, {'skill_id': '237', 'skill': 'tally', 'score': 0.6452953815460205}]\n",
      "[{'skill_id': '254', 'skill': 'machinelearning', 'score': 0.24503594636917114}, {'skill_id': '273', 'skill': 'ai/ml', 'score': 0.3025161027908325}, {'skill_id': '217', 'skill': 'deeplearning', 'score': 0.3885498642921448}]\n",
      "[{'skill_id': '217', 'skill': 'deeplearning', 'score': 0.21855789422988892}, {'skill_id': '254', 'skill': 'machinelearning', 'score': 0.33484703302383423}, {'skill_id': '273', 'skill': 'ai/ml', 'score': 0.35733991861343384}]\n",
      "[{'skill_id': '264', 'skill': 'artificialintelligence', 'score': 0.1951366662979126}, {'skill_id': '273', 'skill': 'ai/ml', 'score': 0.2528197765350342}, {'skill_id': '254', 'skill': 'machinelearning', 'score': 0.38974201679229736}]\n",
      "[{'skill_id': '123', 'skill': 'aws', 'score': 0.4587301015853882}, {'skill_id': '119', 'skill': 'cloud', 'score': 0.46151745319366455}, {'skill_id': '124', 'skill': 'azure', 'score': 0.519773542881012}]\n",
      "[{'skill_id': '200', 'skill': 'webdevelopment', 'score': 0.09967875480651855}, {'skill_id': '10003', 'skill': 'webdeveloper', 'score': 0.19857192039489746}, {'skill_id': '117', 'skill': 'asp.net', 'score': 0.38511645793914795}]\n",
      "[{'skill_id': '199', 'skill': 'datascience', 'score': 0.1021040678024292}, {'skill_id': '10023', 'skill': 'dataanalyst', 'score': 0.3138706684112549}, {'skill_id': '258', 'skill': 'datamining', 'score': 0.38725465536117554}]\n",
      "[{'skill_id': '173', 'skill': 'softwaretesting', 'score': 0.32440346479415894}, {'skill_id': '200', 'skill': 'webdevelopment', 'score': 0.41881829500198364}, {'skill_id': '1', 'skill': 'java', 'score': 0.43311816453933716}]\n",
      "[{'skill_id': '166', 'skill': 'projectmanagement', 'score': 0.05217784643173218}, {'skill_id': '305', 'skill': 'procurementmanagement', 'score': 0.41712844371795654}, {'skill_id': '310', 'skill': 'productmanagement', 'score': 0.43063682317733765}]\n",
      "[{'skill_id': '267', 'skill': 'cybersecurity', 'score': -1.1920928955078125e-07}, {'skill_id': '10022', 'skill': 'applicationsecurityengineer', 'score': 0.5147188901901245}, {'skill_id': '195', 'skill': 'cryptography', 'score': 0.521779477596283}]\n",
      "[{'skill_id': '24', 'skill': 'database', 'score': 0.27700406312942505}, {'skill_id': '54', 'skill': 'sql', 'score': 0.3828016519546509}, {'skill_id': '2', 'skill': 'mysql', 'score': 0.3878399729728699}]\n",
      "[{'skill_id': '263', 'skill': 'hardwareandnetworking', 'score': 0.28997695446014404}, {'skill_id': '1002', 'skill': 'communicationskills', 'score': 0.5597963333129883}, {'skill_id': '155', 'skill': 'nmap', 'score': 0.5759385824203491}]\n",
      "[{'skill_id': '10005', 'skill': 'mobileappdeveloper', 'score': 0.1914818286895752}, {'skill_id': '20002', 'skill': 'fullstackmobileappdeveloper', 'score': 0.39932185411453247}, {'skill_id': '290', 'skill': 'sdkdevelopment', 'score': 0.4127151370048523}]\n",
      "[{'skill_id': '198', 'skill': 'devops', 'score': 0.4879121780395508}, {'skill_id': '200', 'skill': 'webdevelopment', 'score': 0.5126959085464478}, {'skill_id': '1', 'skill': 'java', 'score': 0.5308340787887573}]\n",
      "[{'skill_id': '134', 'skill': 'uxvisualdesign', 'score': 0.3617445230484009}, {'skill_id': '137', 'skill': 'uxwriting', 'score': 0.4607308506965637}, {'skill_id': '138', 'skill': 'uxuserempathy', 'score': 0.5500248670578003}]\n",
      "[{'skill_id': '256', 'skill': 'datavisualization', 'score': 0.259554922580719}, {'skill_id': '10023', 'skill': 'dataanalyst', 'score': 0.40705692768096924}, {'skill_id': '258', 'skill': 'datamining', 'score': 0.4188452959060669}]\n",
      "[{'skill_id': '295', 'skill': 'corporatefinanceanalysis', 'score': 0.40298599004745483}, {'skill_id': '316', 'skill': 'businessdevelopmentmanagement', 'score': 0.44349777698516846}, {'skill_id': '10023', 'skill': 'dataanalyst', 'score': 0.46728289127349854}]\n"
     ]
    }
   ],
   "source": [
    "def lookup_skill_id(raw_input: str, k: int = 1):\n",
    "    \n",
    "    q_emb = model.encode([raw_input], normalize_embeddings=True)[0]\n",
    "\n",
    "    results = collection.query(\n",
    "        query_embeddings=[q_emb.tolist()],\n",
    "        n_results=k,\n",
    "        include=['metadatas', 'distances']  # 'ids' always returned\n",
    "    )\n",
    "\n",
    "    ids = results['ids'][0] if results['ids'] else []\n",
    "    scores = results['distances'][0] if results['distances'] else []\n",
    "    meta = results['metadatas'][0] if results['metadatas'] else []\n",
    "\n",
    "    matches = []\n",
    "    for i in range(len(ids)):\n",
    "        matches.append({\n",
    "            \"skill_id\": ids[i],\n",
    "            \"skill\": meta[i].get(\"skill\", \"\"),\n",
    "            \"score\": scores[i]\n",
    "        })\n",
    "\n",
    "    return matches\n",
    "\n",
    "# Example Usage\n",
    "print(lookup_skill_id(\"spray\")) \n",
    "print(lookup_skill_id(\"counter strafe\", k=3)) \n",
    "print(lookup_skill_id(\"machine learning\", k=3))  \n",
    "print(lookup_skill_id(\"deep learning\", k=3))  \n",
    "print(lookup_skill_id(\"artificial intelligence\", k=3)) \n",
    "print(lookup_skill_id(\"cloud computing\", k=3))  \n",
    "print(lookup_skill_id(\"web development\", k=3))\n",
    "print(lookup_skill_id(\"data science\", k=3))\n",
    "print(lookup_skill_id(\"software engineering\", k=3))\n",
    "print(lookup_skill_id(\"project management\", k=3))\n",
    "print(lookup_skill_id(\"cybersecurity\", k=3))\n",
    "print(lookup_skill_id(\"database management\", k=3))\n",
    "print(lookup_skill_id(\"networking\", k=3))\n",
    "print(lookup_skill_id(\"mobile app development\", k=3))\n",
    "print(lookup_skill_id(\"game development\", k=3))\n",
    "print(lookup_skill_id(\"user experience design\", k=3))\n",
    "print(lookup_skill_id(\"data visualization\", k=3))\n",
    "print(lookup_skill_id(\"business analysis\", k=3))\n"
   ]
  },
  {
   "cell_type": "markdown",
   "id": "7db2bfcc",
   "metadata": {},
   "source": [
    "TS: not typescript;\n",
    "Java Script: not javascript but scripting;\n",
    "Edge case:  CPP Cplusplus"
   ]
  },
  {
   "cell_type": "markdown",
   "id": "f14e93bd",
   "metadata": {},
   "source": [
    "def normalize_skill(skill: str) -> str:\n",
    "    return (\n",
    "        skill.strip()\n",
    "         .lower()\n",
    "    )"
   ]
  },
  {
   "cell_type": "code",
   "execution_count": 10,
   "id": "fee4b391",
   "metadata": {},
   "outputs": [
    {
     "name": "stdout",
     "output_type": "stream",
     "text": [
      "datastructures\n",
      "machinelearning\n"
     ]
    }
   ],
   "source": [
    "def normalize_skill(skill: str) -> str:\n",
    "    return (\n",
    "        skill.strip()\n",
    "         .lower()\n",
    "         .replace(\" \", \"\")\n",
    "    )\n",
    "\n",
    "print(normalize_skill(\"  Data Structures  \"))  # Example usage of normalization function\n",
    "print(normalize_skill(\"Machine Learning\"))  # Another example usage "
   ]
  },
  {
   "cell_type": "code",
   "execution_count": 11,
   "id": "38123285",
   "metadata": {},
   "outputs": [
    {
     "data": {
      "text/html": [
       "<div>\n",
       "<style scoped>\n",
       "    .dataframe tbody tr th:only-of-type {\n",
       "        vertical-align: middle;\n",
       "    }\n",
       "\n",
       "    .dataframe tbody tr th {\n",
       "        vertical-align: top;\n",
       "    }\n",
       "\n",
       "    .dataframe thead th {\n",
       "        text-align: right;\n",
       "    }\n",
       "</style>\n",
       "<table border=\"1\" class=\"dataframe\">\n",
       "  <thead>\n",
       "    <tr style=\"text-align: right;\">\n",
       "      <th></th>\n",
       "      <th>CollegeID</th>\n",
       "      <th>College Name</th>\n",
       "      <th>University</th>\n",
       "      <th>City</th>\n",
       "      <th>State</th>\n",
       "    </tr>\n",
       "  </thead>\n",
       "  <tbody>\n",
       "    <tr>\n",
       "      <th>0</th>\n",
       "      <td>1</td>\n",
       "      <td>National Institute of Technology Rourkela</td>\n",
       "      <td>NaN</td>\n",
       "      <td>Rourkela</td>\n",
       "      <td>Odisha</td>\n",
       "    </tr>\n",
       "    <tr>\n",
       "      <th>1</th>\n",
       "      <td>2</td>\n",
       "      <td>Visvesvaraya National Institute of Technology ...</td>\n",
       "      <td>NaN</td>\n",
       "      <td>Nagpur</td>\n",
       "      <td>Maharashtra</td>\n",
       "    </tr>\n",
       "    <tr>\n",
       "      <th>2</th>\n",
       "      <td>3</td>\n",
       "      <td>Netaji Subhas University of Technology</td>\n",
       "      <td>NaN</td>\n",
       "      <td>New Delhi</td>\n",
       "      <td>Delhi</td>\n",
       "    </tr>\n",
       "    <tr>\n",
       "      <th>3</th>\n",
       "      <td>4</td>\n",
       "      <td>Birla Institute of Technology</td>\n",
       "      <td>NaN</td>\n",
       "      <td>Ranchi</td>\n",
       "      <td>Jharkhand</td>\n",
       "    </tr>\n",
       "    <tr>\n",
       "      <th>4</th>\n",
       "      <td>5</td>\n",
       "      <td>International Institute of Information Technology</td>\n",
       "      <td>NaN</td>\n",
       "      <td>Hyderabad</td>\n",
       "      <td>Telangana</td>\n",
       "    </tr>\n",
       "  </tbody>\n",
       "</table>\n",
       "</div>"
      ],
      "text/plain": [
       "   CollegeID                                       College Name University   \n",
       "0          1         National Institute of Technology Rourkela         NaN  \\\n",
       "1          2  Visvesvaraya National Institute of Technology ...        NaN   \n",
       "2          3             Netaji Subhas University of Technology        NaN   \n",
       "3          4                      Birla Institute of Technology        NaN   \n",
       "4          5  International Institute of Information Technology        NaN   \n",
       "\n",
       "        City        State  \n",
       "0   Rourkela       Odisha  \n",
       "1     Nagpur  Maharashtra  \n",
       "2  New Delhi        Delhi  \n",
       "3     Ranchi    Jharkhand  \n",
       "4  Hyderabad    Telangana  "
      ]
     },
     "execution_count": 11,
     "metadata": {},
     "output_type": "execute_result"
    }
   ],
   "source": [
    "df_clg = pd.read_csv('india_engg_colleges_updated(in).csv')\n",
    "df_clg.head()"
   ]
  },
  {
   "cell_type": "code",
   "execution_count": 12,
   "id": "1d4985a6",
   "metadata": {},
   "outputs": [],
   "source": [
    "df_clg = df_clg[['CollegeID', 'College Name']]"
   ]
  },
  {
   "cell_type": "code",
   "execution_count": 13,
   "id": "0e78f7a5",
   "metadata": {},
   "outputs": [
    {
     "data": {
      "text/html": [
       "<div>\n",
       "<style scoped>\n",
       "    .dataframe tbody tr th:only-of-type {\n",
       "        vertical-align: middle;\n",
       "    }\n",
       "\n",
       "    .dataframe tbody tr th {\n",
       "        vertical-align: top;\n",
       "    }\n",
       "\n",
       "    .dataframe thead th {\n",
       "        text-align: right;\n",
       "    }\n",
       "</style>\n",
       "<table border=\"1\" class=\"dataframe\">\n",
       "  <thead>\n",
       "    <tr style=\"text-align: right;\">\n",
       "      <th></th>\n",
       "      <th>CollegeID</th>\n",
       "      <th>College Name</th>\n",
       "    </tr>\n",
       "  </thead>\n",
       "  <tbody>\n",
       "    <tr>\n",
       "      <th>0</th>\n",
       "      <td>1</td>\n",
       "      <td>National Institute of Technology Rourkela</td>\n",
       "    </tr>\n",
       "    <tr>\n",
       "      <th>1</th>\n",
       "      <td>2</td>\n",
       "      <td>Visvesvaraya National Institute of Technology ...</td>\n",
       "    </tr>\n",
       "    <tr>\n",
       "      <th>2</th>\n",
       "      <td>3</td>\n",
       "      <td>Netaji Subhas University of Technology</td>\n",
       "    </tr>\n",
       "    <tr>\n",
       "      <th>3</th>\n",
       "      <td>4</td>\n",
       "      <td>Birla Institute of Technology</td>\n",
       "    </tr>\n",
       "    <tr>\n",
       "      <th>4</th>\n",
       "      <td>5</td>\n",
       "      <td>International Institute of Information Technology</td>\n",
       "    </tr>\n",
       "  </tbody>\n",
       "</table>\n",
       "</div>"
      ],
      "text/plain": [
       "   CollegeID                                       College Name\n",
       "0          1         National Institute of Technology Rourkela \n",
       "1          2  Visvesvaraya National Institute of Technology ...\n",
       "2          3             Netaji Subhas University of Technology\n",
       "3          4                      Birla Institute of Technology\n",
       "4          5  International Institute of Information Technology"
      ]
     },
     "execution_count": 13,
     "metadata": {},
     "output_type": "execute_result"
    }
   ],
   "source": [
    "df_clg.head()"
   ]
  },
  {
   "cell_type": "code",
   "execution_count": 14,
   "id": "c9f53b10",
   "metadata": {},
   "outputs": [
    {
     "data": {
      "text/html": [
       "<div>\n",
       "<style scoped>\n",
       "    .dataframe tbody tr th:only-of-type {\n",
       "        vertical-align: middle;\n",
       "    }\n",
       "\n",
       "    .dataframe tbody tr th {\n",
       "        vertical-align: top;\n",
       "    }\n",
       "\n",
       "    .dataframe thead th {\n",
       "        text-align: right;\n",
       "    }\n",
       "</style>\n",
       "<table border=\"1\" class=\"dataframe\">\n",
       "  <thead>\n",
       "    <tr style=\"text-align: right;\">\n",
       "      <th></th>\n",
       "      <th>CollegeID</th>\n",
       "      <th>College Name</th>\n",
       "    </tr>\n",
       "  </thead>\n",
       "  <tbody>\n",
       "    <tr>\n",
       "      <th>0</th>\n",
       "      <td>1</td>\n",
       "      <td>National Institute of Technology Rourkela</td>\n",
       "    </tr>\n",
       "    <tr>\n",
       "      <th>1</th>\n",
       "      <td>2</td>\n",
       "      <td>Visvesvaraya National Institute of Technology ...</td>\n",
       "    </tr>\n",
       "    <tr>\n",
       "      <th>2</th>\n",
       "      <td>3</td>\n",
       "      <td>Netaji Subhas University of Technology</td>\n",
       "    </tr>\n",
       "    <tr>\n",
       "      <th>3</th>\n",
       "      <td>4</td>\n",
       "      <td>Birla Institute of Technology</td>\n",
       "    </tr>\n",
       "    <tr>\n",
       "      <th>4</th>\n",
       "      <td>5</td>\n",
       "      <td>International Institute of Information Technology</td>\n",
       "    </tr>\n",
       "  </tbody>\n",
       "</table>\n",
       "</div>"
      ],
      "text/plain": [
       "   CollegeID                                       College Name\n",
       "0          1         National Institute of Technology Rourkela \n",
       "1          2  Visvesvaraya National Institute of Technology ...\n",
       "2          3             Netaji Subhas University of Technology\n",
       "3          4                      Birla Institute of Technology\n",
       "4          5  International Institute of Information Technology"
      ]
     },
     "execution_count": 14,
     "metadata": {},
     "output_type": "execute_result"
    }
   ],
   "source": [
    "df_clg['College Name'] = df_clg['College Name'].astype(str)\n",
    "df_clg.head()\n"
   ]
  },
  {
   "cell_type": "code",
   "execution_count": 15,
   "id": "27c8f1d3",
   "metadata": {},
   "outputs": [],
   "source": [
    "clg_txt = df_clg['College Name'].tolist()\n",
    "clg_embeddings = model.encode(clg_txt, normalize_embeddings=True)\n"
   ]
  },
  {
   "cell_type": "code",
   "execution_count": 12,
   "id": "182b531a",
   "metadata": {},
   "outputs": [],
   "source": [
    "chroma_client = chromadb.PersistentClient(path=\"chroma_db_api\")\n",
    "collection = chroma_client.get_or_create_collection(\n",
    "    name=\"colleges\",\n",
    "    metadata={\"hnsw:space\": \"cosine\"}       \n",
    ")"
   ]
  },
  {
   "cell_type": "code",
   "execution_count": 17,
   "id": "acb6ab87",
   "metadata": {},
   "outputs": [],
   "source": [
    "# choose a batch size at or below the reported maximum\n",
    "batch_size = 5461\n",
    "\n",
    "# prepare your full lists\n",
    "ids        = [str(i) for i in df_clg['CollegeID']]\n",
    "metadatas = [{\"cllge\": c} for c in clg_txt]\n",
    "documents = clg_txt\n",
    "embeddings = clg_embeddings.tolist()\n",
    "\n",
    "\n",
    "# helper to split a list into batches\n",
    "def batchify(lst, size):\n",
    "    for i in range(0, len(lst), size):\n",
    "        yield lst[i : i + size]\n",
    "\n",
    "# iterate over batches and add them one chunk at a time\n",
    "for id_batch, meta_batch, doc_batch, emb_batch in zip(\n",
    "        batchify(ids, batch_size),\n",
    "        batchify(metadatas, batch_size),\n",
    "        batchify(documents, batch_size),\n",
    "        batchify(embeddings, batch_size),\n",
    "    ):\n",
    "    collection.add(\n",
    "        ids=id_batch,\n",
    "        metadatas=meta_batch,\n",
    "        documents=doc_batch,\n",
    "        embeddings=emb_batch\n",
    "    )\n"
   ]
  },
  {
   "cell_type": "code",
   "execution_count": 13,
   "id": "2eca92ee",
   "metadata": {},
   "outputs": [
    {
     "name": "stdout",
     "output_type": "stream",
     "text": [
      "[{'college_id': '47', 'college_name': 'indian institute of technology gandhinagar', 'distance': 0.0696224570274353}]\n",
      "[{'college_id': '1893', 'college_name': 'delhi institute of technology', 'distance': 0.059738993644714355}, {'college_id': '2767', 'college_name': 'delhi global institute of technology', 'distance': 0.07531154155731201}, {'college_id': '2129', 'college_name': 'delhi technical campus', 'distance': 0.08200943470001221}]\n",
      "[{'college_id': '432', 'college_name': 'niit university', 'distance': 0.47304415702819824}, {'college_id': '4043', 'college_name': 'nit polytechnic', 'distance': 0.5399657487869263}, {'college_id': '2138', 'college_name': 'niilm university', 'distance': 0.5543206930160522}]\n",
      "[{'college_id': '432', 'college_name': 'niit university', 'distance': 0.5390298962593079}, {'college_id': '4043', 'college_name': 'nit polytechnic', 'distance': 0.6147104501724243}, {'college_id': '578', 'college_name': 'nitra technical campus', 'distance': 0.6175847053527832}]\n"
     ]
    }
   ],
   "source": [
    "def lookup_college_id(query: str, k: int = 1) -> list[dict]:\n",
    "    # 1) Normalize & encode\n",
    "    raw = normalize(query)\n",
    "    q_emb = model.encode([raw], normalize_embeddings=True)[0]\n",
    "\n",
    "    # 2) Query Chroma\n",
    "    res = collection.query(\n",
    "        query_embeddings=[q_emb.tolist()],\n",
    "        n_results=k,\n",
    "        include=['metadatas', 'distances']\n",
    "    )\n",
    "\n",
    "    # 3) Unwrap the batch dimension (we only did one query)\n",
    "    ids_list       = res['ids'][0]         # e.g. ['cid1','cid2',...]\n",
    "    metas_list     = res['metadatas'][0]   # e.g. [ { 'cllge': '…', … }, … ]\n",
    "    distances_list = res['distances'][0]   # e.g. [0.12, 0.33, …]\n",
    "\n",
    "    # 4) Build your output\n",
    "    matches = []\n",
    "    for cid, meta, dist in zip(ids_list, metas_list, distances_list):\n",
    "        matches.append({\n",
    "            \"college_id\":   cid,\n",
    "            \"college_name\": meta.get(\"college\", \"\"),\n",
    "            \"distance\":     dist\n",
    "        })\n",
    "\n",
    "    return matches\n",
    "\n",
    "# Now this should work without the AttributeError:\n",
    "print(lookup_college_id(\"Indian Institute of Technology Bombay\"))\n",
    "print(lookup_college_id(\"delhi technological university\" , k=3))\n",
    "print(lookup_college_id(\"NIT\", k=3))\n",
    "print(lookup_college_id(\"NITD\", k=3))\n"
   ]
  },
  {
   "cell_type": "code",
   "execution_count": 30,
   "id": "ba2f3244",
   "metadata": {},
   "outputs": [
    {
     "data": {
      "text/html": [
       "<div>\n",
       "<style scoped>\n",
       "    .dataframe tbody tr th:only-of-type {\n",
       "        vertical-align: middle;\n",
       "    }\n",
       "\n",
       "    .dataframe tbody tr th {\n",
       "        vertical-align: top;\n",
       "    }\n",
       "\n",
       "    .dataframe thead th {\n",
       "        text-align: right;\n",
       "    }\n",
       "</style>\n",
       "<table border=\"1\" class=\"dataframe\">\n",
       "  <thead>\n",
       "    <tr style=\"text-align: right;\">\n",
       "      <th></th>\n",
       "      <th>Domain</th>\n",
       "      <th>Company</th>\n",
       "      <th>Company ID</th>\n",
       "    </tr>\n",
       "  </thead>\n",
       "  <tbody>\n",
       "    <tr>\n",
       "      <th>0</th>\n",
       "      <td>accenture.com</td>\n",
       "      <td>Accenture</td>\n",
       "      <td>1</td>\n",
       "    </tr>\n",
       "    <tr>\n",
       "      <th>1</th>\n",
       "      <td>adobe.com</td>\n",
       "      <td>Adobe</td>\n",
       "      <td>2</td>\n",
       "    </tr>\n",
       "    <tr>\n",
       "      <th>2</th>\n",
       "      <td>amazon.com</td>\n",
       "      <td>Amazon</td>\n",
       "      <td>3</td>\n",
       "    </tr>\n",
       "    <tr>\n",
       "      <th>3</th>\n",
       "      <td>amazon.in</td>\n",
       "      <td>Amazon</td>\n",
       "      <td>3</td>\n",
       "    </tr>\n",
       "    <tr>\n",
       "      <th>4</th>\n",
       "      <td>avineonindia.com</td>\n",
       "      <td>Avineon India</td>\n",
       "      <td>4</td>\n",
       "    </tr>\n",
       "  </tbody>\n",
       "</table>\n",
       "</div>"
      ],
      "text/plain": [
       "             Domain        Company  Company ID\n",
       "0     accenture.com      Accenture           1\n",
       "1         adobe.com          Adobe           2\n",
       "2        amazon.com         Amazon           3\n",
       "3         amazon.in         Amazon           3\n",
       "4  avineonindia.com  Avineon India           4"
      ]
     },
     "execution_count": 30,
     "metadata": {},
     "output_type": "execute_result"
    }
   ],
   "source": [
    "df_comp = pd.read_csv('companies.csv')\n",
    "df_comp.head()"
   ]
  },
  {
   "cell_type": "code",
   "execution_count": 31,
   "id": "0e81c6cc",
   "metadata": {},
   "outputs": [],
   "source": [
    "df_comp = (df_comp\n",
    "    [['Company ID', 'Company']]                # pick only the two columns\n",
    "    .drop_duplicates(subset=['Company ID', 'Company'])  # remove duplicate rows\n",
    "    .reset_index(drop=True)                    # optional: re‑index from 0\n",
    ")"
   ]
  },
  {
   "cell_type": "code",
   "execution_count": 34,
   "id": "91570102",
   "metadata": {},
   "outputs": [
    {
     "name": "stdout",
     "output_type": "stream",
     "text": [
      "['Accenture', 'Adobe', 'Amazon', 'Avineon India', 'Blue Star Infotech']\n"
     ]
    }
   ],
   "source": [
    "cmp_txt = df_comp['Company'].tolist()\n",
    "print(cmp_txt[:5])  # Display first 5 company names for verification\n",
    "cmp_embeddings = model.encode(cmp_txt, normalize_embeddings=True)"
   ]
  },
  {
   "cell_type": "code",
   "execution_count": 35,
   "id": "5edcbe79",
   "metadata": {},
   "outputs": [],
   "source": [
    "chroma_client = chromadb.PersistentClient(path=\"chroma_db_2\")\n",
    "comp_collection = chroma_client.get_or_create_collection(\n",
    "    name=\"company\",\n",
    "    metadata={\"hnsw:space\": \"cosine\"}       \n",
    ")"
   ]
  },
  {
   "cell_type": "code",
   "execution_count": 36,
   "id": "d52ecae4",
   "metadata": {},
   "outputs": [],
   "source": [
    "comp_collection.add(\n",
    "    ids=[str(i) for i in df_comp['Company ID']], \n",
    "    embeddings=cmp_embeddings.tolist(),\n",
    "    metadatas=[{\"company\": c} for c in cmp_txt],\n",
    "    documents=cmp_txt                 \n",
    ")"
   ]
  },
  {
   "cell_type": "code",
   "execution_count": 38,
   "id": "faf50e07",
   "metadata": {},
   "outputs": [
    {
     "name": "stdout",
     "output_type": "stream",
     "text": [
      "[{'company_id': '60', 'company_name': 'TATA Consultancy Services', 'distance': 0.4901370406150818}]\n",
      "[{'company_id': '36', 'company_name': 'Infosys', 'distance': -8.344650268554688e-07}, {'company_id': '33', 'company_name': 'Ids Infotech', 'distance': 0.28184396028518677}, {'company_id': '301', 'company_name': 'SISL Infotech', 'distance': 0.30938732624053955}]\n",
      "[{'company_id': '65', 'company_name': 'Wipro', 'distance': 0.0}, {'company_id': '80', 'company_name': 'Wissen Technology', 'distance': 0.5065919160842896}, {'company_id': '176', 'company_name': 'Qualtech Edge', 'distance': 0.5484176874160767}]\n",
      "[{'company_id': '26', 'company_name': 'HCL Technologies', 'distance': 0.2819862365722656}, {'company_id': '230', 'company_name': 'Clarivate', 'distance': 0.5963231325149536}, {'company_id': '30', 'company_name': 'Honeywell', 'distance': 0.6119521856307983}]\n"
     ]
    }
   ],
   "source": [
    "def lookup_company_id(query: str, k: int = 1) -> list[dict]:\n",
    "    # 1) Normalize & encode\n",
    "    raw = normalize(query)\n",
    "    q_emb = model.encode([raw], normalize_embeddings=True)[0]\n",
    "\n",
    "    # 2) Query Chroma\n",
    "    res = comp_collection.query(\n",
    "        query_embeddings=[q_emb.tolist()],\n",
    "        n_results=k,\n",
    "        include=['metadatas', 'distances']\n",
    "    )\n",
    "\n",
    "    # 3) Unwrap the batch dimension (we only did one query)\n",
    "    ids_list       = res['ids'][0]         # e.g. ['cid1','cid2',...]\n",
    "    metas_list     = res['metadatas'][0]   # e.g. [ { 'cllge': '…', … }, … ]\n",
    "    distances_list = res['distances'][0]   # e.g. [0.12, 0.33, …]\n",
    "\n",
    "    # 4) Build your output\n",
    "    matches = []\n",
    "    for cid, meta, dist in zip(ids_list, metas_list, distances_list):\n",
    "        matches.append({\n",
    "            \"company_id\":   cid,\n",
    "            \"company_name\": meta.get(\"company\", \"\"),\n",
    "            \"distance\":     dist\n",
    "        })\n",
    "\n",
    "    return matches\n",
    "\n",
    "# Now this should work without the AttributeError:\n",
    "print(lookup_company_id(\"TCS\"))\n",
    "print(lookup_company_id(\"Infosys\", k=3))    \n",
    "print(lookup_company_id(\"Wipro\", k=3))\n",
    "print(lookup_company_id(\"HCL\", k=3))"
   ]
  },
  {
   "cell_type": "code",
   "execution_count": 11,
   "id": "ae49a264",
   "metadata": {},
   "outputs": [
    {
     "name": "stdout",
     "output_type": "stream",
     "text": [
      "Collections: ['skills', 'colleges', 'companies']\n",
      "Skill embeddings count: 353\n"
     ]
    },
    {
     "ename": "ValueError",
     "evalue": "Expected IDs to be a non-empty list, got 0 IDs in get.",
     "output_type": "error",
     "traceback": [
      "\u001b[1;31m---------------------------------------------------------------------------\u001b[0m",
      "\u001b[1;31mValueError\u001b[0m                                Traceback (most recent call last)",
      "Cell \u001b[1;32mIn[11], line 13\u001b[0m\n\u001b[0;32m     10\u001b[0m \u001b[38;5;28mprint\u001b[39m(\u001b[38;5;124m\"\u001b[39m\u001b[38;5;124mSkill embeddings count:\u001b[39m\u001b[38;5;124m\"\u001b[39m, col\u001b[38;5;241m.\u001b[39mcount())\n\u001b[0;32m     12\u001b[0m \u001b[38;5;66;03m# 4) (Optionally) Peek at the first few documents & metadata\u001b[39;00m\n\u001b[1;32m---> 13\u001b[0m peek \u001b[38;5;241m=\u001b[39m \u001b[43mcol\u001b[49m\u001b[38;5;241;43m.\u001b[39;49m\u001b[43mget\u001b[49m\u001b[43m(\u001b[49m\n\u001b[0;32m     14\u001b[0m \u001b[43m    \u001b[49m\u001b[43mids\u001b[49m\u001b[38;5;241;43m=\u001b[39;49m\u001b[43m[\u001b[49m\u001b[43m]\u001b[49m\u001b[43m,\u001b[49m\u001b[43m       \u001b[49m\u001b[38;5;66;43;03m# empty list means “ignore id filter”\u001b[39;49;00m\n\u001b[0;32m     15\u001b[0m \u001b[43m    \u001b[49m\u001b[43mlimit\u001b[49m\u001b[38;5;241;43m=\u001b[39;49m\u001b[38;5;241;43m5\u001b[39;49m\u001b[43m       \u001b[49m\u001b[38;5;66;43;03m# top 5 whatever order\u001b[39;49;00m\n\u001b[0;32m     16\u001b[0m \u001b[43m)\u001b[49m\n\u001b[0;32m     17\u001b[0m \u001b[38;5;28mprint\u001b[39m(\u001b[38;5;124m\"\u001b[39m\u001b[38;5;124mSample IDs:\u001b[39m\u001b[38;5;124m\"\u001b[39m, peek[\u001b[38;5;124m\"\u001b[39m\u001b[38;5;124mids\u001b[39m\u001b[38;5;124m\"\u001b[39m])\n\u001b[0;32m     18\u001b[0m \u001b[38;5;28mprint\u001b[39m(\u001b[38;5;124m\"\u001b[39m\u001b[38;5;124mSample metadatas:\u001b[39m\u001b[38;5;124m\"\u001b[39m, peek[\u001b[38;5;124m\"\u001b[39m\u001b[38;5;124mmetadatas\u001b[39m\u001b[38;5;124m\"\u001b[39m])\n",
      "File \u001b[1;32mc:\\Users\\Administrator\\.conda\\envs\\cv_parser\\lib\\site-packages\\chromadb\\api\\models\\Collection.py:124\u001b[0m, in \u001b[0;36mCollection.get\u001b[1;34m(self, ids, where, limit, offset, where_document, include)\u001b[0m\n\u001b[0;32m    100\u001b[0m \u001b[38;5;28;01mdef\u001b[39;00m\u001b[38;5;250m \u001b[39m\u001b[38;5;21mget\u001b[39m(\n\u001b[0;32m    101\u001b[0m     \u001b[38;5;28mself\u001b[39m,\n\u001b[0;32m    102\u001b[0m     ids: Optional[OneOrMany[ID]] \u001b[38;5;241m=\u001b[39m \u001b[38;5;28;01mNone\u001b[39;00m,\n\u001b[1;32m   (...)\u001b[0m\n\u001b[0;32m    107\u001b[0m     include: Include \u001b[38;5;241m=\u001b[39m [\u001b[38;5;124m\"\u001b[39m\u001b[38;5;124mmetadatas\u001b[39m\u001b[38;5;124m\"\u001b[39m, \u001b[38;5;124m\"\u001b[39m\u001b[38;5;124mdocuments\u001b[39m\u001b[38;5;124m\"\u001b[39m],\n\u001b[0;32m    108\u001b[0m ) \u001b[38;5;241m-\u001b[39m\u001b[38;5;241m>\u001b[39m GetResult:\n\u001b[0;32m    109\u001b[0m \u001b[38;5;250m    \u001b[39m\u001b[38;5;124;03m\"\"\"Get embeddings and their associate data from the data store. If no ids or where filter is provided returns\u001b[39;00m\n\u001b[0;32m    110\u001b[0m \u001b[38;5;124;03m    all embeddings up to limit starting at offset.\u001b[39;00m\n\u001b[0;32m    111\u001b[0m \n\u001b[1;32m   (...)\u001b[0m\n\u001b[0;32m    122\u001b[0m \n\u001b[0;32m    123\u001b[0m \u001b[38;5;124;03m    \"\"\"\u001b[39;00m\n\u001b[1;32m--> 124\u001b[0m     get_request \u001b[38;5;241m=\u001b[39m \u001b[38;5;28;43mself\u001b[39;49m\u001b[38;5;241;43m.\u001b[39;49m\u001b[43m_validate_and_prepare_get_request\u001b[49m\u001b[43m(\u001b[49m\n\u001b[0;32m    125\u001b[0m \u001b[43m        \u001b[49m\u001b[43mids\u001b[49m\u001b[38;5;241;43m=\u001b[39;49m\u001b[43mids\u001b[49m\u001b[43m,\u001b[49m\n\u001b[0;32m    126\u001b[0m \u001b[43m        \u001b[49m\u001b[43mwhere\u001b[49m\u001b[38;5;241;43m=\u001b[39;49m\u001b[43mwhere\u001b[49m\u001b[43m,\u001b[49m\n\u001b[0;32m    127\u001b[0m \u001b[43m        \u001b[49m\u001b[43mwhere_document\u001b[49m\u001b[38;5;241;43m=\u001b[39;49m\u001b[43mwhere_document\u001b[49m\u001b[43m,\u001b[49m\n\u001b[0;32m    128\u001b[0m \u001b[43m        \u001b[49m\u001b[43minclude\u001b[49m\u001b[38;5;241;43m=\u001b[39;49m\u001b[43minclude\u001b[49m\u001b[43m,\u001b[49m\n\u001b[0;32m    129\u001b[0m \u001b[43m    \u001b[49m\u001b[43m)\u001b[49m\n\u001b[0;32m    131\u001b[0m     get_results \u001b[38;5;241m=\u001b[39m \u001b[38;5;28mself\u001b[39m\u001b[38;5;241m.\u001b[39m_client\u001b[38;5;241m.\u001b[39m_get(\n\u001b[0;32m    132\u001b[0m         collection_id\u001b[38;5;241m=\u001b[39m\u001b[38;5;28mself\u001b[39m\u001b[38;5;241m.\u001b[39mid,\n\u001b[0;32m    133\u001b[0m         ids\u001b[38;5;241m=\u001b[39mget_request[\u001b[38;5;124m\"\u001b[39m\u001b[38;5;124mids\u001b[39m\u001b[38;5;124m\"\u001b[39m],\n\u001b[1;32m   (...)\u001b[0m\n\u001b[0;32m    140\u001b[0m         database\u001b[38;5;241m=\u001b[39m\u001b[38;5;28mself\u001b[39m\u001b[38;5;241m.\u001b[39mdatabase,\n\u001b[0;32m    141\u001b[0m     )\n\u001b[0;32m    142\u001b[0m     \u001b[38;5;28;01mreturn\u001b[39;00m \u001b[38;5;28mself\u001b[39m\u001b[38;5;241m.\u001b[39m_transform_get_response(\n\u001b[0;32m    143\u001b[0m         response\u001b[38;5;241m=\u001b[39mget_results, include\u001b[38;5;241m=\u001b[39mget_request[\u001b[38;5;124m\"\u001b[39m\u001b[38;5;124minclude\u001b[39m\u001b[38;5;124m\"\u001b[39m]\n\u001b[0;32m    144\u001b[0m     )\n",
      "File \u001b[1;32mc:\\Users\\Administrator\\.conda\\envs\\cv_parser\\lib\\site-packages\\chromadb\\api\\models\\CollectionCommon.py:95\u001b[0m, in \u001b[0;36mvalidation_context.<locals>.decorator.<locals>.wrapper\u001b[1;34m(self, *args, **kwargs)\u001b[0m\n\u001b[0;32m     92\u001b[0m \u001b[38;5;129m@functools\u001b[39m\u001b[38;5;241m.\u001b[39mwraps(func)\n\u001b[0;32m     93\u001b[0m \u001b[38;5;28;01mdef\u001b[39;00m\u001b[38;5;250m \u001b[39m\u001b[38;5;21mwrapper\u001b[39m(\u001b[38;5;28mself\u001b[39m: Any, \u001b[38;5;241m*\u001b[39margs: Any, \u001b[38;5;241m*\u001b[39m\u001b[38;5;241m*\u001b[39mkwargs: Any) \u001b[38;5;241m-\u001b[39m\u001b[38;5;241m>\u001b[39m T:\n\u001b[0;32m     94\u001b[0m     \u001b[38;5;28;01mtry\u001b[39;00m:\n\u001b[1;32m---> 95\u001b[0m         \u001b[38;5;28;01mreturn\u001b[39;00m func(\u001b[38;5;28mself\u001b[39m, \u001b[38;5;241m*\u001b[39margs, \u001b[38;5;241m*\u001b[39m\u001b[38;5;241m*\u001b[39mkwargs)\n\u001b[0;32m     96\u001b[0m     \u001b[38;5;28;01mexcept\u001b[39;00m \u001b[38;5;167;01mException\u001b[39;00m \u001b[38;5;28;01mas\u001b[39;00m e:\n\u001b[0;32m     97\u001b[0m         msg \u001b[38;5;241m=\u001b[39m \u001b[38;5;124mf\u001b[39m\u001b[38;5;124m\"\u001b[39m\u001b[38;5;132;01m{\u001b[39;00m\u001b[38;5;28mstr\u001b[39m(e)\u001b[38;5;132;01m}\u001b[39;00m\u001b[38;5;124m in \u001b[39m\u001b[38;5;132;01m{\u001b[39;00mname\u001b[38;5;132;01m}\u001b[39;00m\u001b[38;5;124m.\u001b[39m\u001b[38;5;124m\"\u001b[39m\n",
      "File \u001b[1;32mc:\\Users\\Administrator\\.conda\\envs\\cv_parser\\lib\\site-packages\\chromadb\\api\\models\\CollectionCommon.py:251\u001b[0m, in \u001b[0;36mCollectionCommon._validate_and_prepare_get_request\u001b[1;34m(self, ids, where, where_document, include)\u001b[0m\n\u001b[0;32m    249\u001b[0m \u001b[38;5;66;03m# Validate\u001b[39;00m\n\u001b[0;32m    250\u001b[0m \u001b[38;5;28;01mif\u001b[39;00m unpacked_ids \u001b[38;5;129;01mis\u001b[39;00m \u001b[38;5;129;01mnot\u001b[39;00m \u001b[38;5;28;01mNone\u001b[39;00m:\n\u001b[1;32m--> 251\u001b[0m     \u001b[43mvalidate_ids\u001b[49m\u001b[43m(\u001b[49m\u001b[43mids\u001b[49m\u001b[38;5;241;43m=\u001b[39;49m\u001b[43munpacked_ids\u001b[49m\u001b[43m)\u001b[49m\n\u001b[0;32m    253\u001b[0m validate_filter_set(filter_set\u001b[38;5;241m=\u001b[39mfilters)\n\u001b[0;32m    254\u001b[0m validate_include(include\u001b[38;5;241m=\u001b[39minclude, dissalowed\u001b[38;5;241m=\u001b[39m[\u001b[38;5;124m\"\u001b[39m\u001b[38;5;124mdistances\u001b[39m\u001b[38;5;124m\"\u001b[39m])\n",
      "File \u001b[1;32mc:\\Users\\Administrator\\.conda\\envs\\cv_parser\\lib\\site-packages\\chromadb\\api\\types.py:701\u001b[0m, in \u001b[0;36mvalidate_ids\u001b[1;34m(ids)\u001b[0m\n\u001b[0;32m    699\u001b[0m     \u001b[38;5;28;01mraise\u001b[39;00m \u001b[38;5;167;01mValueError\u001b[39;00m(\u001b[38;5;124mf\u001b[39m\u001b[38;5;124m\"\u001b[39m\u001b[38;5;124mExpected IDs to be a list, got \u001b[39m\u001b[38;5;132;01m{\u001b[39;00m\u001b[38;5;28mtype\u001b[39m(ids)\u001b[38;5;241m.\u001b[39m\u001b[38;5;18m__name__\u001b[39m\u001b[38;5;132;01m}\u001b[39;00m\u001b[38;5;124m as IDs\u001b[39m\u001b[38;5;124m\"\u001b[39m)\n\u001b[0;32m    700\u001b[0m \u001b[38;5;28;01mif\u001b[39;00m \u001b[38;5;28mlen\u001b[39m(ids) \u001b[38;5;241m==\u001b[39m \u001b[38;5;241m0\u001b[39m:\n\u001b[1;32m--> 701\u001b[0m     \u001b[38;5;28;01mraise\u001b[39;00m \u001b[38;5;167;01mValueError\u001b[39;00m(\u001b[38;5;124mf\u001b[39m\u001b[38;5;124m\"\u001b[39m\u001b[38;5;124mExpected IDs to be a non-empty list, got \u001b[39m\u001b[38;5;132;01m{\u001b[39;00m\u001b[38;5;28mlen\u001b[39m(ids)\u001b[38;5;132;01m}\u001b[39;00m\u001b[38;5;124m IDs\u001b[39m\u001b[38;5;124m\"\u001b[39m)\n\u001b[0;32m    702\u001b[0m seen \u001b[38;5;241m=\u001b[39m \u001b[38;5;28mset\u001b[39m()\n\u001b[0;32m    703\u001b[0m dups \u001b[38;5;241m=\u001b[39m \u001b[38;5;28mset\u001b[39m()\n",
      "\u001b[1;31mValueError\u001b[0m: Expected IDs to be a non-empty list, got 0 IDs in get."
     ]
    }
   ],
   "source": [
    "client = chromadb.PersistentClient(path=\"chroma_db_api\")\n",
    "\n",
    "# 1) List all collections\n",
    "print(\"Collections:\", [c.name for c in client.list_collections()])\n",
    "\n",
    "# 2) Pick the one you care about\n",
    "col = client.get_collection(\"skills\")  \n",
    "\n",
    "# 3) Count how many records it has\n",
    "print(\"Skill embeddings count:\", col.count())\n",
    "\n",
    "# 4) (Optionally) Peek at the first few documents & metadata\n",
    "peek = col.get(\n",
    "    ids=[],       # empty list means “ignore id filter”\n",
    "    limit=5       # top 5 whatever order\n",
    ")\n",
    "print(\"Sample IDs:\", peek[\"ids\"])\n",
    "print(\"Sample metadatas:\", peek[\"metadatas\"])\n",
    "print(\"Sample documents:\", peek[\"documents\"])"
   ]
  },
  {
   "cell_type": "code",
   "execution_count": null,
   "id": "6f8d9a7a",
   "metadata": {},
   "outputs": [],
   "source": []
  }
 ],
 "metadata": {
  "kernelspec": {
   "display_name": "cv_parser",
   "language": "python",
   "name": "python3"
  },
  "language_info": {
   "codemirror_mode": {
    "name": "ipython",
    "version": 3
   },
   "file_extension": ".py",
   "mimetype": "text/x-python",
   "name": "python",
   "nbconvert_exporter": "python",
   "pygments_lexer": "ipython3",
   "version": "3.10.18"
  }
 },
 "nbformat": 4,
 "nbformat_minor": 5
}
